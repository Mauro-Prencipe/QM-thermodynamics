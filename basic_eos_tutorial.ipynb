{
 "cells": [
  {
   "cell_type": "markdown",
   "metadata": {},
   "source": [
    "# Basic operations to optimize a Birch-Murnaghan EoS \n",
    "## from *static energies* and vibrational frequencies, at different cell volumes, computed at the *ab initio* level \n",
    "\n",
    "\n",
    "This tutorial shows the basic usage of the BMx system to optimize the EoS of a mineral (*pyrope*, in the example) starting from a set of values of *static energy*, at different volumes ($V$), and *frequencies of vibrational normal modes* also computed at different values of the unit cell volume of the crystal.\n",
    "\n",
    "The calculation is done within the framework of the *Quasi-Harmonic Approximation* (**QHA**).\n",
    "\n",
    "## A bit of theory\n",
    "\n",
    "The *Helmholtz free energy* $F$, as a function of $V$ and $T$ (*temperature*), is computed following its definition in statistical termodynamics:\n",
    "\n",
    "$$F=U-TS = -k_BT \\log Z$$\n",
    "\n",
    "where $U$ is the internal energy, $S$ the entropy, $Z$ the *partition function* and $k_B$ the Boltzmann's constant. In turn, $Z$ is defined as:\n",
    "\n",
    "$$Z = \\sum_a e^{-\\epsilon_a/k_BT}$$\n",
    "\n",
    "where $\\epsilon_a$ is the energy of the $^{th}a$ *state* of the crystal and the *sum* is extended to all the possible *states*. In particular, at a fixed volume, the contribution of the $^{th}i$ normal mode with frequency $\\nu_i$ to the *vibrational* Helmholtz free energy ($F^{vib}_{i}$) is given by\n",
    "\n",
    "$$F^{vib}_{i} = -k_BT\\sum_n e^{-(n+1/2)h\\nu_i/k_BT}$$\n",
    "\n",
    "where $n$ is the vibrational quantum number of the oscillator. The total *vibrational free energy* is:\n",
    "\n",
    "$$F^{vib}=\\sum_i F^{vib}_{i}$$\n",
    "\n",
    "where the sum is extended to all the normal modes of the crystal. Note that: \n",
    "\n",
    "$$F = F^{static} + F^{vib} = U^{static} + U^{vib} - TS^{vib}$$\n",
    "\n",
    "where $U^{static}$ is the so named *static energy* of the crystal ($U^{static}\\equiv F^{static}$) that depends on the volume of the cell only. \n",
    "\n",
    "***Pressure*** ($P$) at a given volume an temperature is evaluated from its definition in term of free energy:\n",
    "\n",
    "$$P=-\\left(\\frac{\\partial F}{\\partial V}\\right)_T = -\\left(\\frac{\\partial U^{static}}{\\partial V}\\right)_T  -\\left(\\frac{\\partial F^{vib}}{\\partial V}\\right)_T = P^{static}(V) + P^{vib}(V,T)$$\n",
    "\n",
    "The *vibrational pressure* $P^{vib}$ is here defined as the partial derivative of $F^{vib}$ with respect to $V$ (at $T$ constant). In turn, $F^{vib}$ depends upon $V$ through the variation of the $\\nu_i$'s by $V$; in a perfectly *harmonic* crystal, the vibrational frequencies are by definition independent of volume, so that the *vibrational pressure* is exactly *zero* and the total pressure is given by the static contribution only. This is the *harmonic* model. \n",
    "\n",
    "The *harmonic* model is usually *not* valid as the frequencies normally do depend of volume. The *Quasi harmonic approximation* (**QHA**) is thus generally used. In fact, to compute the *vibrational pressure*, the frequencies variation with the unit cell volume must be estimated, so that $F$ and its derivatives with $V$ can be computed at whatever temperature. \n",
    "\n",
    "Static energies and frequencies (at different volumes) must be calculated with some quantum-mechanical program; the one that was used here, in the case of pyrope, is [CRYSTAL17]( http://www.crystal.unito.it/index.php).\n",
    "\n",
    "A possible strategy to get the parameters of a chosen equation of state (EoS) is to calculate the pressure of the crystal (first derivative of $F$ with respect to $V$) in a range of volumes, at a fixed temperature. The EoS is then fitted to the pressure/volume set thus obtained. \n",
    "\n",
    "The strategy followed in the current project if to directly fit the *volume-integrated* EoS to the $F$ free energy/volume set. In fact, by defining with $P_{EoS}(V)$ the $P(V)$ EoS function (for instance, a Birch-Murnaghan equation), its volume integrated form follows by:\n",
    "\n",
    "$$P_{EoS}(V)=-\\left(\\frac{\\partial F_{EoS}}{\\partial V}\\right)_T \\ \\rightarrow \\ {\\rm d}F_{EoS}(V)=-P_{EoS}(V){\\rm d}V \\ \n",
    "\\rightarrow \\ F_{EoS}(V) = -\\int_{V_0}^{V} P_{EoS}(V){\\rm d}V + F_{EoS}(V_0)$$\n",
    "\n",
    "where $F_{EoS}(V_0)$ is the free energy at the equilibrium volume (at the fixed temperature). \n",
    "\n",
    "\n",
    "\n",
    "\n",
    "## *Practice*\n",
    "\n",
    "1. Prepare a folder containing;\n",
    "   * a file of primitive unit cell volumes (in $\\mathrm A^3$) and the corresponding energy values ($U^{static}$ in *a.u.*; see the *theoretical* section above). In the example provided, such file is 'pyrope_static.dat': the first column lists volumes; the second one lists energies;\n",
    "   * a file of volumes at which frequencies of vibrational modes are computed. In the example provided, such files is 'volume.dat';\n",
    "   * a file of set of frequencies computed at each volume listed in the *volume* file. Such file is named 'pyrope_freq.dat' in the example. Each column of the file lists the frequencies of all the modes computed at a given volume. **Note** that the first column lists the *degeneracy* of the modes. Frequency values are in $\\rm{cm}^{-1}$;\n",
    "   * an *input.txt* file with instructions to run the program. Have a look at the input file provided in the example, with the comments it contains about the meaning of each keyword.\n",
    "   \n",
    "   \n",
    "2. For a *quick start*, in the master folder (the one with the program code) do provide a file *quick_start.txt* just containing the name of the data folder (*pyrope* in the example).   \n",
    "\n",
    "Start the calculation by running the ***bm3_thermal_2*** Python code:"
   ]
  },
  {
   "cell_type": "code",
   "execution_count": 1,
   "metadata": {},
   "outputs": [
    {
     "name": "stdout",
     "output_type": "stream",
     "text": [
      "This is BMx-QM program, version 2.4.0 - 18/02/2021 \n",
      "Run time:  2021-05-23 18:15:28.902582\n",
      "\n",
      "File quick_start.txt found in the master folder\n",
      "Input files in 'pyrope' folder\n",
      "\n",
      "Input file\n",
      "\n",
      "STATIC\n",
      "pyrope_static.dat\n",
      "VOLUME\n",
      "volume.dat\n",
      "FREQ\n",
      "pyrope_freq_2.dat\n",
      "EXP\n",
      "experimental.txt\n",
      "LO\n",
      "LO.txt\n",
      "FITVOL\n",
      "SPLINE\n",
      "725. 773. 12 3 2.\n",
      "FU\n",
      "4 20\n",
      "SET\n",
      "0 1 4 5 8 10 15 21\n",
      "TEMP\n",
      "300\n",
      "CP\n",
      "0.  2. -2. 1. -1. -0.5 3. -3\n",
      "ALPHA\n",
      "0. -2  -1 -0.5\n",
      "KIEFFER\n",
      "100. 100. 100.\n",
      "END\n",
      "\n",
      "-------- End of input file -------\n",
      "\n",
      "Frequencies corrected for LO-TO splitting\n",
      "\n",
      "Static BM3 EoS\n",
      "\n",
      "Bulk Modulus: 173.95 (0.07) GPa\n",
      "Kp:             4.30 (0.04)\n",
      "V0:           756.1932 (0.00) A^3\n",
      "E0:            -1.14182286e+04 (1.56e-06) hartree\n",
      "\n",
      "\n",
      "Kieffer model for the acoustic branches activated\n"
     ]
    }
   ],
   "source": [
    "%run bm3_thermal_2.py"
   ]
  },
  {
   "cell_type": "markdown",
   "metadata": {},
   "source": [
    "The parameters of a BM3 EoS fitted to the *static* data (*no vibrational contributions* considered) are printed. \n",
    "\n",
    "Next, issue the command ***eos_temp*** by giving a *temperature* (n K) as argument. This provides the BM3 EoS parameters at the specific temperature."
   ]
  },
  {
   "cell_type": "code",
   "execution_count": 2,
   "metadata": {},
   "outputs": [
    {
     "name": "stdout",
     "output_type": "stream",
     "text": [
      "\n",
      " ** BM3 fit **\n",
      "\n",
      "EoS at the temperature of 300.00 K\n",
      "\n",
      "Bulk Modulus: 160.14   (0.11) GPa\n",
      "Kp:             4.66   (0.03)\n",
      "V0:           767.6419 (0.005) A^3\n",
      "\n",
      "Fix status: False\n",
      "Fit of frequencies is active\n",
      "Spline fit: degree  3, smooth: 2.0\n",
      "Volume range: 725.00 - 773.00, points=12\n"
     ]
    },
    {
     "data": {
      "image/png": "[encoded data removed]",
      "text/plain": [
       "<Figure size 480x320 with 1 Axes>"
      ]
     },
     "metadata": {
      "needs_background": "light"
     },
     "output_type": "display_data"
    },
    {
     "name": "stdout",
     "output_type": "stream",
     "text": [
      "\n",
      "Volume-Pressure list at 300.00 K\n",
      "\n",
      " 725.000   10.46\n",
      " 729.364    9.23\n",
      " 733.727    8.04\n",
      " 738.091    6.89\n",
      " 742.455    5.77\n",
      " 746.818    4.70\n",
      " 751.182    3.65\n",
      " 755.545    2.64\n",
      " 759.909    1.66\n",
      " 764.273    0.71\n",
      " 768.636   -0.21\n",
      " 773.000   -1.10\n"
     ]
    }
   ],
   "source": [
    "eos_temp(300)"
   ]
  },
  {
   "cell_type": "markdown",
   "metadata": {},
   "source": [
    "Besides other points, the output provides information concerning the method followed to deal with the frequencies change with the volume: in the present case, spline fits of $\\nu_i(V)$ are performed for each mode $i$, as specified by the *SPLINE* keyword under the *FITVOL* directive in the *input.txt* file.\n",
    "\n",
    "To deactivate the fitting of the frequencies, so to compute the EoS by using just the set of frequencies provided in input, at the corresponding volumes, use the command ***fit_off*** "
   ]
  },
  {
   "cell_type": "code",
   "execution_count": 3,
   "metadata": {},
   "outputs": [
    {
     "name": "stdout",
     "output_type": "stream",
     "text": [
      "\n",
      " ** BM3 fit **\n",
      "\n",
      "EoS at the temperature of 300.00 K\n",
      "\n",
      "Bulk Modulus: 160.00   (1.56) GPa\n",
      "Kp:             4.70   (0.40)\n",
      "V0:           767.6477 (0.066) A^3\n",
      "\n",
      "Fix status: False\n",
      "Fitting is off\n",
      "\n",
      "\n"
     ]
    }
   ],
   "source": [
    "fit_off()\n",
    "eos_temp(300,prt=False)"
   ]
  },
  {
   "cell_type": "markdown",
   "metadata": {},
   "source": [
    "**Note** the *standard deviations* on each parameter, as determined by the fit, which are higher than those obtained before, with the spline fit of the frequencies. \n",
    "\n",
    "Beside *spline* fittings of the frequencies, *polynomial* fits can be used by issuing the command ***set_poly*** which accepts the degree of the polynomial as argument. Look at the example below, where the effect of the degree of the polynomial on the computed EoS parameters is evaluated:   "
   ]
  },
  {
   "cell_type": "code",
   "execution_count": 4,
   "metadata": {},
   "outputs": [
    {
     "name": "stdout",
     "output_type": "stream",
     "text": [
      "Volume range 725.5483 - 772.8196 defined for 'POLY' fit\n",
      "\n",
      " ** BM3 fit **\n",
      "\n",
      "EoS at the temperature of 300.00 K\n",
      "\n",
      "Bulk Modulus: 158.77   (0.14) GPa\n",
      "Kp:             4.99   (0.03)\n",
      "V0:           767.6984 (0.008) A^3\n",
      "\n",
      "Fix status: False\n",
      "Fit of frequencies is active\n",
      "Polynomial fit: degree  2\n",
      "Volume range: 725.00 - 769.00, points=16\n",
      "\n",
      "\n",
      "\n",
      " ** BM3 fit **\n",
      "\n",
      "EoS at the temperature of 300.00 K\n",
      "\n",
      "Bulk Modulus: 163.17   (0.00) GPa\n",
      "Kp:             4.11   (0.00)\n",
      "V0:           767.4477 (0.000) A^3\n",
      "\n",
      "Fix status: False\n",
      "Fit of frequencies is active\n",
      "Polynomial fit: degree  3\n",
      "Volume range: 725.00 - 769.00, points=16\n",
      "\n",
      "\n",
      "\n",
      " ** BM3 fit **\n",
      "\n",
      "EoS at the temperature of 300.00 K\n",
      "\n",
      "Bulk Modulus: 159.49   (1.63) GPa\n",
      "Kp:             4.78   (0.36)\n",
      "V0:           767.6911 (0.085) A^3\n",
      "\n",
      "Fix status: False\n",
      "Fit of frequencies is active\n",
      "Polynomial fit: degree  4\n",
      "Volume range: 725.00 - 769.00, points=16\n"
     ]
    },
    {
     "data": {
      "image/png": "[encoded data removed]",
      "text/plain": [
       "<Figure size 480x320 with 1 Axes>"
      ]
     },
     "metadata": {
      "needs_background": "light"
     },
     "output_type": "display_data"
    },
    {
     "name": "stdout",
     "output_type": "stream",
     "text": [
      "\n",
      "Volume-Pressure list at 300.00 K\n",
      "\n",
      " 725.000   10.47\n",
      " 727.933    9.63\n",
      " 730.867    8.82\n",
      " 733.800    8.02\n",
      " 736.733    7.24\n",
      " 739.667    6.48\n",
      " 742.600    5.74\n",
      " 745.533    5.01\n",
      " 748.467    4.30\n",
      " 751.400    3.60\n",
      " 754.333    2.92\n",
      " 757.267    2.25\n",
      " 760.200    1.60\n",
      " 763.133    0.96\n",
      " 766.067    0.34\n",
      " 769.000   -0.27\n"
     ]
    }
   ],
   "source": [
    "set_poly(2)\n",
    "set_volume_range(725,769,16)\n",
    "eos_temp(300,prt=False)\n",
    "set_poly(3)\n",
    "eos_temp(300,prt=False)\n",
    "set_poly(4)\n",
    "eos_temp(300,prt=True)"
   ]
  },
  {
   "cell_type": "markdown",
   "metadata": {},
   "source": [
    "The volume range for the fitting of frequencies and EoS can be changed by the function ***set_volume_range***. The function takes, as arguments, the minimum volume (v_min), the maximum volume (v_max) and the number of points in the range:"
   ]
  },
  {
   "cell_type": "code",
   "execution_count": 5,
   "metadata": {
    "scrolled": false
   },
   "outputs": [
    {
     "name": "stdout",
     "output_type": "stream",
     "text": [
      "All global flags set to False; flag list:\n",
      "\n",
      "disp.flag\n",
      "disp.input\n",
      "kieffer.flag\n",
      "kieffer.input\n",
      "anharm.flag\n",
      "lo.flag\n",
      "flag_spline.flag\n",
      "flag_poly.flag\n",
      "f_fix.flag\n",
      "verbose.flag\n",
      "bm4.flag\n",
      "disp.eos_flag\n",
      "disp.fit_vt_flag\n",
      "static_range.flag\n",
      "vd.flag\n",
      "\n",
      "\n",
      "Input file\n",
      "\n",
      "STATIC\n",
      "pyrope_static.dat\n",
      "VOLUME\n",
      "volume.dat\n",
      "FREQ\n",
      "pyrope_freq_2.dat\n",
      "EXP\n",
      "experimental.txt\n",
      "LO\n",
      "LO.txt\n",
      "FITVOL\n",
      "SPLINE\n",
      "725. 773. 12 3 2.\n",
      "FU\n",
      "4 20\n",
      "SET\n",
      "0 1 4 5 8 10 15 21\n",
      "TEMP\n",
      "300\n",
      "CP\n",
      "0.  2. -2. 1. -1. -0.5 3. -3\n",
      "ALPHA\n",
      "0. -2  -1 -0.5\n",
      "KIEFFER\n",
      "100. 100. 100.\n",
      "END\n",
      "\n",
      "-------- End of input file -------\n",
      "\n",
      "Frequencies corrected for LO-TO splitting\n",
      "\n",
      "Static BM3 EoS\n",
      "\n",
      "Bulk Modulus: 173.95 (0.07) GPa\n",
      "Kp:             4.30 (0.04)\n",
      "V0:           756.1932 (0.00) A^3\n",
      "E0:            -1.14182286e+04 (1.56e-06) hartree\n",
      "\n",
      "\n",
      "\n",
      " ** BM3 fit **\n",
      "\n",
      "EoS at the temperature of 300.00 K\n",
      "\n",
      "Bulk Modulus: 163.16   (0.00) GPa\n",
      "Kp:             4.11   (0.00)\n",
      "V0:           767.4478 (0.000) A^3\n",
      "\n",
      "Fix status: False\n",
      "Fit of frequencies is active\n",
      "Polynomial fit: degree  3\n",
      "Volume range: 725.00 - 768.00, points=16\n"
     ]
    },
    {
     "data": {
      "image/png": "[encoded data removed]",
      "text/plain": [
       "<Figure size 480x320 with 1 Axes>"
      ]
     },
     "metadata": {
      "needs_background": "light"
     },
     "output_type": "display_data"
    },
    {
     "name": "stdout",
     "output_type": "stream",
     "text": [
      "\n",
      "Volume-Pressure list at 300.00 K\n",
      "\n",
      " 725.000   10.44\n",
      " 727.867    9.63\n",
      " 730.733    8.85\n",
      " 733.600    8.08\n",
      " 736.467    7.32\n",
      " 739.333    6.58\n",
      " 742.200    5.85\n",
      " 745.067    5.13\n",
      " 747.933    4.43\n",
      " 750.800    3.74\n",
      " 753.667    3.07\n",
      " 756.533    2.41\n",
      " 759.400    1.76\n",
      " 762.267    1.12\n",
      " 765.133    0.50\n",
      " 768.000   -0.12\n"
     ]
    }
   ],
   "source": [
    "reload_input(\"pyrope\")\n",
    "set_poly(3)\n",
    "set_volume_range(725,768,16)\n",
    "eos_temp(300)"
   ]
  },
  {
   "cell_type": "markdown",
   "metadata": {},
   "source": [
    "**Note** that the *set_volume_range* function has no effect with *fit_off*. To change the volume range if the frequencies are not fitted, just use the SET keyword in *input.txt*.\n",
    "\n",
    "EoS optimization can be performed by **keeping *Kp* fixed**. Use of the ***set_fix*** function can be used for the purpose: "
   ]
  },
  {
   "cell_type": "code",
   "execution_count": 6,
   "metadata": {},
   "outputs": [
    {
     "name": "stdout",
     "output_type": "stream",
     "text": [
      "\n",
      " ** BM3 fit **\n",
      "\n",
      "EoS at the temperature of 300.00 K\n",
      "\n",
      "Bulk Modulus: 163.36   (0.31) GPa\n",
      "Kp:             4.00   (0.00)\n",
      "V0:           767.4769 (0.040) A^3\n",
      "\n",
      "Fix status: True\n",
      "Kp fixed at 4.00\n",
      "Fit of frequencies is active\n",
      "Polynomial fit: degree  4\n",
      "Volume range: 725.00 - 768.00, points=16\n",
      "\n",
      "\n"
     ]
    }
   ],
   "source": [
    "set_fix(4.00)\n",
    "set_poly(4)\n",
    "eos_temp(300,prt=False)"
   ]
  },
  {
   "cell_type": "markdown",
   "metadata": {},
   "source": [
    "The EoS can also be evaluated by fitting the BM3 equation to the pressures computed for a set of volumes (at a given temperature). In turn, such pressures are calculated as the volume derivative of the $F(V,T)$ Helmholtz free energy:\n",
    "\n",
    "$$P=-\\left(\\frac{\\partial F}{\\partial V}\\right)_T$$\n",
    "\n",
    "At each volume, the static energy contribution to $F$ comes from a V-BM3 fit to the static energy values $[U^{static}(V)]$, whereas all the vibrational contributions comes from the *vibrational partition function*. \n",
    "\n",
    "Setup the calculation by specifying a volume range for the frequency fit (and optionally check the EoS evaluated by the methods outlined above): "
   ]
  },
  {
   "cell_type": "code",
   "execution_count": 7,
   "metadata": {},
   "outputs": [
    {
     "name": "stdout",
     "output_type": "stream",
     "text": [
      "\n",
      " ** BM3 fit **\n",
      "\n",
      "EoS at the temperature of 300.00 K\n",
      "\n",
      "Bulk Modulus: 160.83   (1.08) GPa\n",
      "Kp:             4.55   (0.23)\n",
      "V0:           767.5990 (0.063) A^3\n",
      "\n",
      "Fix status: False\n",
      "Fit of frequencies is active\n",
      "Polynomial fit: degree  4\n",
      "Volume range: 725.00 - 768.00, points=20\n",
      "\n",
      "\n"
     ]
    }
   ],
   "source": [
    "set_volume_range(725,768,20)\n",
    "reset_fix()\n",
    "eos_temp(300,prt=False)"
   ]
  },
  {
   "cell_type": "markdown",
   "metadata": {},
   "source": [
    "Then compute the EoS by fitting a BM3 function to the $P(V)$ data; the command to use is ***bulk_dir*** (which wants the temperature as argument):"
   ]
  },
  {
   "cell_type": "code",
   "execution_count": 8,
   "metadata": {},
   "outputs": [
    {
     "name": "stdout",
     "output_type": "stream",
     "text": [
      "\n",
      "BM3 EoS from P(V) fit\n",
      "\n",
      "K0:    157.08   (1.81) GPa\n",
      "Kp:      4.99   (0.39)    \n",
      "V0:  767.9319   (0.10) A^3\n"
     ]
    },
    {
     "data": {
      "image/png": "[encoded data removed]",
      "text/plain": [
       "<Figure size 480x320 with 1 Axes>"
      ]
     },
     "metadata": {
      "needs_background": "light"
     },
     "output_type": "display_data"
    }
   ],
   "source": [
    "bulk_dir(300)"
   ]
  },
  {
   "cell_type": "markdown",
   "metadata": {},
   "source": [
    "### 4^ order Birch-Murnaghan EoS\n",
    "\n",
    "To fit the *F(V)* curve by a volume integrated 4^ order Birch-Murnaghan EoS, just issue the commands *start_bm4()* and *eos_temp*:"
   ]
  },
  {
   "cell_type": "code",
   "execution_count": 9,
   "metadata": {
    "scrolled": false
   },
   "outputs": [
    {
     "name": "stdout",
     "output_type": "stream",
     "text": [
      "All global flags set to False; flag list:\n",
      "\n",
      "disp.flag\n",
      "disp.input\n",
      "kieffer.flag\n",
      "kieffer.input\n",
      "anharm.flag\n",
      "lo.flag\n",
      "flag_spline.flag\n",
      "flag_poly.flag\n",
      "f_fix.flag\n",
      "verbose.flag\n",
      "bm4.flag\n",
      "disp.eos_flag\n",
      "disp.fit_vt_flag\n",
      "static_range.flag\n",
      "vd.flag\n",
      "\n",
      "\n",
      "Input file\n",
      "\n",
      "STATIC\n",
      "pyrope_static.dat\n",
      "VOLUME\n",
      "volume.dat\n",
      "FREQ\n",
      "pyrope_freq_2.dat\n",
      "EXP\n",
      "experimental.txt\n",
      "LO\n",
      "LO.txt\n",
      "FITVOL\n",
      "SPLINE\n",
      "725. 773. 12 3 2.\n",
      "FU\n",
      "4 20\n",
      "SET\n",
      "0 1 4 5 8 10 15 21\n",
      "TEMP\n",
      "300\n",
      "CP\n",
      "0.  2. -2. 1. -1. -0.5 3. -3\n",
      "ALPHA\n",
      "0. -2  -1 -0.5\n",
      "KIEFFER\n",
      "100. 100. 100.\n",
      "END\n",
      "\n",
      "-------- End of input file -------\n",
      "\n",
      "Frequencies corrected for LO-TO splitting\n",
      "\n",
      "Static BM3 EoS\n",
      "\n",
      "Bulk Modulus: 173.95 (0.07) GPa\n",
      "Kp:             4.30 (0.04)\n",
      "V0:           756.1932 (0.00) A^3\n",
      "E0:            -1.14182286e+04 (1.56e-06) hartree\n",
      "\n",
      "\n",
      "\n",
      "BM4-EoS initial estimate:\n",
      "\n",
      "V0:  756.1932\n",
      "K0:  173.95\n",
      "Kp:    4.30\n",
      "Kpp:  -0.02\n",
      "E0:   -1.141823e+04\n",
      "\n",
      "Static BM4-EoS\n",
      "\n",
      "Bulk Modulus:  173.93 GPa\n",
      "Kp:              4.25 \n",
      "Kpp:            -0.02 \n",
      "V0:            756.1957 A^3\n",
      "\n",
      "\n"
     ]
    },
    {
     "data": {
      "image/png": "[encoded data removed]",
      "text/plain": [
       "<Figure size 480x320 with 1 Axes>"
      ]
     },
     "metadata": {
      "needs_background": "light"
     },
     "output_type": "display_data"
    },
    {
     "name": "stdout",
     "output_type": "stream",
     "text": [
      "\n",
      " ** BM4 fit **\n",
      "\n",
      "EoS at the temperature of 300.00 K\n",
      "\n",
      "Bulk Modulus: 163.32   (0.00) GPa\n",
      "Kp:             4.01   (0.00)\n",
      "Kpp            -0.04   (0.00)\n",
      "V0:           767.4466 (0.000) A^3\n",
      "\n",
      "Fix status: False\n",
      "Fit of frequencies is active\n",
      "Polynomial fit: degree  3\n",
      "Volume range: 725.00 - 768.00, points=16\n"
     ]
    },
    {
     "data": {
      "image/png": "[encoded data removed]",
      "text/plain": [
       "<Figure size 480x320 with 1 Axes>"
      ]
     },
     "metadata": {
      "needs_background": "light"
     },
     "output_type": "display_data"
    },
    {
     "name": "stdout",
     "output_type": "stream",
     "text": [
      "\n",
      "Volume-Pressure list at 300.00 K\n",
      "\n",
      " 725.000   10.40\n",
      " 727.867    9.60\n",
      " 730.733    8.82\n",
      " 733.600    8.06\n",
      " 736.467    7.30\n",
      " 739.333    6.56\n",
      " 742.200    5.84\n",
      " 745.067    5.13\n",
      " 747.933    4.43\n",
      " 750.800    3.74\n",
      " 753.667    3.07\n",
      " 756.533    2.41\n",
      " 759.400    1.76\n",
      " 762.267    1.12\n",
      " 765.133    0.50\n",
      " 768.000   -0.12\n"
     ]
    }
   ],
   "source": [
    "reload_input(\"pyrope\")\n",
    "set_poly(3)\n",
    "start_bm4()\n",
    "eos_temp(300)"
   ]
  },
  {
   "cell_type": "markdown",
   "metadata": {},
   "source": [
    "Let's see the effect of a change in the volume range on a BM4 fit:"
   ]
  },
  {
   "cell_type": "code",
   "execution_count": 10,
   "metadata": {},
   "outputs": [
    {
     "name": "stdout",
     "output_type": "stream",
     "text": [
      "\n",
      " ** BM4 fit **\n",
      "\n",
      "EoS at the temperature of 300.00 K\n",
      "\n",
      "Bulk Modulus: 163.32   (0.00) GPa\n",
      "Kp:             4.01   (0.00)\n",
      "Kpp            -0.07   (0.00)\n",
      "V0:           767.4466 (0.000) A^3\n",
      "\n",
      "Fix status: False\n",
      "Fit of frequencies is active\n",
      "Polynomial fit: degree  3\n",
      "Volume range: 725.00 - 770.00, points=16\n",
      "\n",
      "\n"
     ]
    }
   ],
   "source": [
    "set_volume_range(725,770,16)\n",
    "eos_temp(300,prt=False)"
   ]
  },
  {
   "cell_type": "markdown",
   "metadata": {},
   "source": [
    "As in the case of BM3, also the BM4 EoS can be computed fitting P(V) instead of F(V) data. The function ***bm4_dir*** is to be used for the purpose: "
   ]
  },
  {
   "cell_type": "code",
   "execution_count": 11,
   "metadata": {},
   "outputs": [
    {
     "name": "stdout",
     "output_type": "stream",
     "text": [
      "\n",
      "BM4-EoS initial estimate:\n",
      "\n",
      "V0:  756.1932\n",
      "K0:  173.95\n",
      "Kp:    4.30\n",
      "Kpp:  -0.02\n",
      "E0:   -1.141823e+04\n",
      "\n",
      "Static BM4-EoS\n",
      "\n",
      "Bulk Modulus:  173.93 GPa\n",
      "Kp:              4.25 \n",
      "Kpp:            -0.02 \n",
      "V0:            756.1957 A^3\n",
      "\n",
      "\n"
     ]
    },
    {
     "data": {
      "image/png": "[encoded data removed]",
      "text/plain": [
       "<Figure size 480x320 with 1 Axes>"
      ]
     },
     "metadata": {
      "needs_background": "light"
     },
     "output_type": "display_data"
    },
    {
     "name": "stdout",
     "output_type": "stream",
     "text": [
      "Fix status: False\n",
      "\n",
      "BM4 EoS from P(V) fit\n",
      "\n",
      "K0:    163.18   (0.01) GPa\n",
      "Kp:      4.10   (0.00)    \n",
      "Kpp:    -0.02   (0.00)    \n",
      "V0:  767.4477   (0.00) A^3\n"
     ]
    },
    {
     "data": {
      "image/png": "[encoded data removed]",
      "text/plain": [
       "<Figure size 480x320 with 1 Axes>"
      ]
     },
     "metadata": {
      "needs_background": "light"
     },
     "output_type": "display_data"
    },
    {
     "name": "stdout",
     "output_type": "stream",
     "text": [
      "\n",
      "Volume-Pressure list at 300.00 K\n",
      "\n",
      " 725.000   10.44\n",
      " 728.000    9.60\n",
      " 731.000    8.77\n",
      " 734.000    7.97\n",
      " 737.000    7.18\n",
      " 740.000    6.40\n",
      " 743.000    5.65\n",
      " 746.000    4.90\n",
      " 749.000    4.17\n",
      " 752.000    3.46\n",
      " 755.000    2.76\n",
      " 758.000    2.07\n",
      " 761.000    1.40\n",
      " 764.000    0.74\n",
      " 767.000    0.10\n",
      " 767.449   -0.00\n"
     ]
    }
   ],
   "source": [
    "bm4_dir(300)"
   ]
  },
  {
   "cell_type": "markdown",
   "metadata": {},
   "source": [
    "Some information concerning volume ranges and fitting conditions can be gathered through the method ***info.show()***:"
   ]
  },
  {
   "cell_type": "code",
   "execution_count": 12,
   "metadata": {},
   "outputs": [
    {
     "name": "stdout",
     "output_type": "stream",
     "text": [
      "\n",
      " ** BM3 fit **\n",
      "\n",
      "EoS at the temperature of 300.00 K\n",
      "\n",
      "Bulk Modulus: 163.16   (0.00) GPa\n",
      "Kp:             4.11   (0.00)\n",
      "V0:           767.4482 (0.000) A^3\n",
      "\n",
      "Fix status: False\n",
      "Fit of frequencies is active\n",
      "Polynomial fit: degree  3\n",
      "Volume range: 725.00 - 772.00, points=16\n",
      "\n",
      "\n",
      "\n",
      "Current settings and results\n",
      "\n",
      "Static data            ** min, max volumes: 725.7483, 772.6196; points: 8\n",
      "Frequency volume range ** min, max volumes: 725.7483, 772.6196; points: 22\n",
      "Selected freq. sets    ** min, max volumes: 725.7483, 772.6196; points: 8\n",
      "Frequency sets:           [0, 1, 4, 5, 8, 10, 15, 21]\n",
      "\n",
      "Fit of frequencies     ** type: poly, degree: 3\n",
      "                          min, max volumes: 725.0000, 772.0000; points 16\n",
      "\n",
      "** Static EoS (BM3) **\n",
      "K0: 173.95 GPa, Kp: 4.30, V0: 756.1932 A^3\n",
      "\n",
      "** BM3 EoS from the last computation, at the temperature of 300.00 K **\n",
      "K0: 163.16 GPa, Kp: 4.11, V0: 767.4482 A^3\n",
      "Kp not fixed\n",
      "\n",
      "No zone center excluded modes\n",
      "No off center excluded modes\n",
      "\n",
      "Kieffer model on; frequencies 100.00 100.00 100.00 cm^-1\n",
      "\n",
      "Frequencies corrected for LO-TO splitting.\n",
      "\n",
      "\n",
      "**** Volume driver for volume_dir function ****\n",
      "Delta: 2.0; degree:  2; left: 2.0; right: 2.0, Kp_fix: True; t_max: 500.00\n",
      "EoS shift: 0.0; Quad_shrink:  4; T_dump: 0.0; Dump fact.: 1.0, T_last  0.0\n"
     ]
    }
   ],
   "source": [
    "bm4.off()\n",
    "set_volume_range(725, 772)\n",
    "eos_temp(300,prt=False)\n",
    "info.show()"
   ]
  },
  {
   "cell_type": "markdown",
   "metadata": {},
   "source": [
    "### Direct calculation of the bulk modulus\n",
    "\n",
    "Bulk modulus can also be computed from its definition\n",
    "\n",
    "$$K=-V\\left(\\frac{\\partial P}{\\partial V}\\right)_T$$\n",
    "\n",
    "This is done by the function *bulk_modulus_p* in two different ways:\n",
    "\n",
    "1. a V-EoS is fitted to the $F(V)$ data at a fixed temperature; pressures at any given volume are computed from the fitted EoS and $K$ is computed as the derivative of *P* with respect to *V*;\n",
    "\n",
    "\n",
    "2. pressures are computed as derivatives of the *F* function, at a fixed temperature, and $K$ is obtained as the derivative of *P* with respect to *V*.\n",
    "\n",
    "At variance with the first case, no reference to any EoS function is present in the second route.\n",
    "\n",
    "Reload the input and start the calculation:"
   ]
  },
  {
   "cell_type": "code",
   "execution_count": 13,
   "metadata": {},
   "outputs": [
    {
     "name": "stdout",
     "output_type": "stream",
     "text": [
      "All global flags set to False; flag list:\n",
      "\n",
      "disp.flag\n",
      "disp.input\n",
      "kieffer.flag\n",
      "kieffer.input\n",
      "anharm.flag\n",
      "lo.flag\n",
      "flag_spline.flag\n",
      "flag_poly.flag\n",
      "f_fix.flag\n",
      "verbose.flag\n",
      "bm4.flag\n",
      "disp.eos_flag\n",
      "disp.fit_vt_flag\n",
      "static_range.flag\n",
      "vd.flag\n",
      "\n",
      "\n",
      "Input file\n",
      "\n",
      "STATIC\n",
      "pyrope_static.dat\n",
      "VOLUME\n",
      "volume.dat\n",
      "FREQ\n",
      "pyrope_freq_2.dat\n",
      "EXP\n",
      "experimental.txt\n",
      "LO\n",
      "LO.txt\n",
      "FITVOL\n",
      "SPLINE\n",
      "725. 773. 12 3 2.\n",
      "FU\n",
      "4 20\n",
      "SET\n",
      "0 1 4 5 8 10 15 21\n",
      "TEMP\n",
      "300\n",
      "CP\n",
      "0.  2. -2. 1. -1. -0.5 3. -3\n",
      "ALPHA\n",
      "0. -2  -1 -0.5\n",
      "KIEFFER\n",
      "100. 100. 100.\n",
      "END\n",
      "\n",
      "-------- End of input file -------\n",
      "\n",
      "Frequencies corrected for LO-TO splitting\n",
      "\n",
      "Static BM3 EoS\n",
      "\n",
      "Bulk Modulus: 173.95 (0.07) GPa\n",
      "Kp:             4.30 (0.04)\n",
      "V0:           756.1932 (0.00) A^3\n",
      "E0:            -1.14182286e+04 (1.56e-06) hartree\n",
      "\n",
      "\n"
     ]
    }
   ],
   "source": [
    "reload_input('pyrope')\n",
    "set_poly(3)"
   ]
  },
  {
   "cell_type": "markdown",
   "metadata": {},
   "source": [
    "The route (1) explained above is followed by specifying the keyword **noeos=False** as argument of the function *bulk_modulus_p*  (that is the default). The function requires the temperature (300K in the example) and the pressure (0 GPa in the example) as mandatory arguments:   "
   ]
  },
  {
   "cell_type": "code",
   "execution_count": 14,
   "metadata": {},
   "outputs": [
    {
     "name": "stdout",
     "output_type": "stream",
     "text": [
      "Bulk Modulus at T = 300.0 K and P = 0.0 GPa, noeos = False: 162.637 GPa, V = 767.448 \n"
     ]
    }
   ],
   "source": [
    "bulk_modulus_p(300,0,noeos=False,prt=True)"
   ]
  },
  {
   "cell_type": "markdown",
   "metadata": {},
   "source": [
    "The second route is the choice when the keyword **noeos=True**:"
   ]
  },
  {
   "cell_type": "code",
   "execution_count": 15,
   "metadata": {},
   "outputs": [
    {
     "name": "stdout",
     "output_type": "stream",
     "text": [
      "Bulk Modulus at T = 300.0 K and P = 0.0 GPa, noeos = True: 163.110 GPa, V = 767.449 \n"
     ]
    }
   ],
   "source": [
    "bulk_modulus_p(300,0, noeos=True, prt=True)"
   ]
  },
  {
   "cell_type": "markdown",
   "metadata": {},
   "source": [
    "### Note on numerical derivatives with respect to *V*\n",
    "\n",
    "As said above, in a function like *bulk_modulus_p*, pressures are evaluated through numerical derivatives of *F* with respect to *V* (if noeos=True) and, likewise, the same type of numerical derivatives are employed to compute *K*. The computation of numerical derivatives involves a volume range at which the given $f(V)$ is computed, then it is fit by some polynomials of $V$ and, finally, that polynomials is analytically derived. The file *parame.py* contains some convenient parameters to perform such a task. For instance, the power of the polynomials is set to 3 (*degree_v* value, imported in the program at runtime and stored in the *pr.degree_v* variable). The V-range (*pr.delta_v* variable) is also imported as a default value but it is usually recomputed by the program as a function of the equilibrium static volume (*v0*) of the crystal being investigated. To do that, the parameter *pr.v_frac* is used (default value: 0.0015); precisely: *delta=v0\\*pr.v_frac*.\n",
    "\n",
    "The class *volume_delta_class* (whose instance is *vd*) is provided to redefine *delta*, as well as *v_frac* and *v0*, or to set *delta* to the default *pr.delta_v* value. As an example:"
   ]
  },
  {
   "cell_type": "code",
   "execution_count": 16,
   "metadata": {},
   "outputs": [
    {
     "name": "stdout",
     "output_type": "stream",
     "text": [
      "Flag: True, v0: 756.193, frac: 0.0015, delta: 1.134\n",
      "Bulk Modulus at T = 300.0 K and P = 0.0 GPa, noeos = False: 162.637 GPa, V = 767.448 \n"
     ]
    }
   ],
   "source": [
    "print(\"Flag: %r, v0: %6.3f, frac: %6.4f, delta: %5.3f\" % (vd.flag, vd.v0, vd.frac, vd.delta))\n",
    "bulk_modulus_p(300,0,noeos=False,prt=True)"
   ]
  },
  {
   "cell_type": "markdown",
   "metadata": {},
   "source": [
    "To use the default V-range, simply invoke the *vd.off* method:"
   ]
  },
  {
   "cell_type": "code",
   "execution_count": 17,
   "metadata": {},
   "outputs": [
    {
     "name": "stdout",
     "output_type": "stream",
     "text": [
      "Default delta value:  0.500\n",
      "Bulk Modulus at T = 300.0 K and P = 0.0 GPa, noeos = False: 164.776 GPa, V = 767.448 \n"
     ]
    }
   ],
   "source": [
    "vd.off()\n",
    "print(\"Default delta value: %6.3f\" % pr.delta_v)\n",
    "bulk_modulus_p(300,0,noeos=False,prt=True)"
   ]
  },
  {
   "cell_type": "markdown",
   "metadata": {},
   "source": [
    "In this case, a significant difference (about 2GPa) between the two computed $K$ values is observed."
   ]
  },
  {
   "cell_type": "markdown",
   "metadata": {},
   "source": [
    "### Bulk modulus as a function of temperature \n",
    "\n",
    "To compute the bulk modulus in a range of temperatures, the function *bulk_modulus_p_serie* can be used; its many arguments can be seen by requesting the help:"
   ]
  },
  {
   "cell_type": "code",
   "execution_count": 18,
   "metadata": {},
   "outputs": [
    {
     "name": "stdout",
     "output_type": "stream",
     "text": [
      "Help on function bulk_modulus_p_serie in module __main__:\n",
      "\n",
      "bulk_modulus_p_serie(tini, tfin, nt, pres, noeos=False, fit=False, type='poly', deg=2, smooth=5, out=False, **kwargs)\n",
      "    Computes the bulk modulus from the definition K=-V(dP/dV)_T in a range\n",
      "    of temperature values\n",
      "    \n",
      "    Args:\n",
      "        tini:   lower temperature in the range\n",
      "        tfin:   higher temperature in the range\n",
      "        nt:     number of points in the [tini, tfin] range\n",
      "        pres:   pressure (GPa)\n",
      "        noeos:  see note below\n",
      "        fit:    if True, a fit of the computed K(T) values is performed\n",
      "        type:   type of the fit ('poly', or 'spline')\n",
      "        deg:    degree of the fit\n",
      "        smooth: smooth parameter for the fit; relevant if type='spline'\n",
      "        out:    if True, the parameters of the K(T) and V(T) fits are printed\n",
      "        \n",
      "    Keyword Args:\n",
      "        fix:    if fix is provided, Kp is kept fixed at the fix value\n",
      "                Relevant if noeos=False\n",
      "                \n",
      "    Note:\n",
      "        if noeos=False, the pressure at any given volume is calculated \n",
      "        from the equation of state. If noeos=True, the pressure is computed\n",
      "        as the first derivative of the Helmholtz function (at constant\n",
      "        temperature)\n",
      "\n"
     ]
    }
   ],
   "source": [
    "help(bulk_modulus_p_serie)"
   ]
  },
  {
   "cell_type": "code",
   "execution_count": 19,
   "metadata": {},
   "outputs": [
    {
     "name": "stdout",
     "output_type": "stream",
     "text": [
      "Warning: volume exceeds the maximum value set in volume_range\n",
      "Volume: 772.1726\n",
      "Fit of frequencies is active\n",
      "Polynomial fit: degree  3\n",
      "Volume range: 725.00 - 772.00, points=16\n",
      "\n"
     ]
    },
    {
     "data": {
      "image/png": "[encoded data removed]",
      "text/plain": [
       "<Figure size 480x320 with 1 Axes>"
      ]
     },
     "metadata": {
      "needs_background": "light"
     },
     "output_type": "display_data"
    }
   ],
   "source": [
    "vd.on()\n",
    "bulk_modulus_p_serie(10, 500., 24, 0, noeos=True, fit=True, type='spline', deg=3, smooth=0.01)"
   ]
  },
  {
   "cell_type": "markdown",
   "metadata": {},
   "source": [
    "### Interface to EoSFit\n",
    "\n",
    "The function ***eosfit_dir*** can be used to write a PVT file to be used as input to the [EoSFit](http://www.rossangel.com/text_eosfit.htm). Such function computes the pressure, at each volume and pressure, as the derivative of the $F$ function with respect to $V$ (at constant $T$).\n",
    "\n",
    "The function ***eosdir*** can also be used as an interface to EoSFit: it computes the pressure by using a BM3 EoS that was determined by fitting a volume-integrated BM3 EoS to $F(V)$ points. \n",
    "\n",
    "The set of temperatures at which P(V) data must be computed is specified in *input.txt*, under the kewyword TEMP. "
   ]
  },
  {
   "cell_type": "code",
   "execution_count": 20,
   "metadata": {},
   "outputs": [
    {
     "name": "stdout",
     "output_type": "stream",
     "text": [
      "\n",
      "EoSFit file pyrope/pyrope_eosfit_dir.dat saved\n"
     ]
    }
   ],
   "source": [
    "eosfit_dir(\"pyrope_eosfit_dir.dat\")"
   ]
  }
 ],
 "metadata": {
  "kernelspec": {
   "display_name": "Python 3",
   "language": "python",
   "name": "python3"
  },
  "language_info": {
   "codemirror_mode": {
    "name": "ipython",
    "version": 3
   },
   "file_extension": ".py",
   "mimetype": "text/x-python",
   "name": "python",
   "nbconvert_exporter": "python",
   "pygments_lexer": "ipython3",
   "version": "3.8.5"
  },
  "latex_envs": {
   "LaTeX_envs_menu_present": true,
   "autoclose": false,
   "autocomplete": true,
   "bibliofile": "biblio.bib",
   "cite_by": "apalike",
   "current_citInitial": 1,
   "eqLabelWithNumbers": true,
   "eqNumInitial": 1,
   "hotkeys": {
    "equation": "Ctrl-E",
    "itemize": "Ctrl-I"
   },
   "labels_anchors": false,
   "latex_user_defs": false,
   "report_style_numbering": false,
   "user_envs_cfg": false
  }
 },
 "nbformat": 4,
 "nbformat_minor": 2
}
